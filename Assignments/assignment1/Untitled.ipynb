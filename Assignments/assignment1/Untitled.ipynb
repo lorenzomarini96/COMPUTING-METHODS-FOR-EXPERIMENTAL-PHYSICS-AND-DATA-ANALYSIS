{
 "cells": [
  {
   "cell_type": "code",
   "execution_count": 4,
   "metadata": {
    "ExecuteTime": {
     "end_time": "2020-10-05T09:37:29.541839Z",
     "start_time": "2020-10-05T09:37:29.530675Z"
    }
   },
   "outputs": [],
   "source": [
    "def split_new(word): \n",
    "    return [char for char in word]\n",
    "\n"
   ]
  },
  {
   "cell_type": "code",
   "execution_count": 5,
   "metadata": {
    "ExecuteTime": {
     "end_time": "2020-10-05T09:37:30.031115Z",
     "start_time": "2020-10-05T09:37:30.020667Z"
    }
   },
   "outputs": [
    {
     "data": {
      "text/plain": [
       "['a',\n",
       " 'g',\n",
       " 'j',\n",
       " 'a',\n",
       " 'n',\n",
       " 'g',\n",
       " 'l',\n",
       " 's',\n",
       " 'g',\n",
       " 'd',\n",
       " ' ',\n",
       " 'g',\n",
       " 's',\n",
       " 'd',\n",
       " 'k',\n",
       " 'f',\n",
       " 'g',\n",
       " 'j',\n",
       " 's',\n",
       " ' ']"
      ]
     },
     "execution_count": 5,
     "metadata": {},
     "output_type": "execute_result"
    }
   ],
   "source": [
    "testo = 'agjanglsgd gsdkfgjs '\n",
    "\n",
    "split_new(testo)"
   ]
  },
  {
   "cell_type": "code",
   "execution_count": 11,
   "metadata": {
    "ExecuteTime": {
     "end_time": "2020-10-05T09:41:04.024193Z",
     "start_time": "2020-10-05T09:41:04.016964Z"
    }
   },
   "outputs": [
    {
     "name": "stdout",
     "output_type": "stream",
     "text": [
      "['Ciao', 'a', 'tutti']\n",
      "Ciaoatutti\n"
     ]
    }
   ],
   "source": [
    "testo_prova = 'Ciao a tutti'\n",
    "\n",
    "testo_splittato = testo_prova.split()\n",
    "print(testo_splittato)\n",
    "unione = ''.join(testo_splittato)\n",
    "print(unione)"
   ]
  },
  {
   "cell_type": "code",
   "execution_count": 8,
   "metadata": {
    "ExecuteTime": {
     "end_time": "2020-10-05T09:38:48.877588Z",
     "start_time": "2020-10-05T09:38:48.872482Z"
    }
   },
   "outputs": [
    {
     "name": "stdout",
     "output_type": "stream",
     "text": [
      "['C', 'i', 'a', 'o', ' ', 'a', ' ', 't', 'u', 't', 't', 'i']\n"
     ]
    }
   ],
   "source": [
    "testo_splittato_new = split_new(testo_prova)\n",
    "print(testo_splittato_new)"
   ]
  },
  {
   "cell_type": "code",
   "execution_count": 10,
   "metadata": {
    "ExecuteTime": {
     "end_time": "2020-10-05T09:40:44.600584Z",
     "start_time": "2020-10-05T09:40:44.592871Z"
    }
   },
   "outputs": [
    {
     "name": "stdout",
     "output_type": "stream",
     "text": [
      "abcd\n"
     ]
    }
   ],
   "source": [
    "a = ['a', 'b', 'c', 'd']\n",
    "unione = ''.join(a)\n",
    "print(unione)\n"
   ]
  },
  {
   "cell_type": "code",
   "execution_count": 12,
   "metadata": {
    "ExecuteTime": {
     "end_time": "2020-10-05T09:41:40.195733Z",
     "start_time": "2020-10-05T09:41:40.191427Z"
    }
   },
   "outputs": [],
   "source": [
    "testo_original1 = 'Questo è un testo da unire'"
   ]
  },
  {
   "cell_type": "code",
   "execution_count": 14,
   "metadata": {
    "ExecuteTime": {
     "end_time": "2020-10-05T09:42:07.995354Z",
     "start_time": "2020-10-05T09:42:07.989502Z"
    }
   },
   "outputs": [
    {
     "name": "stdout",
     "output_type": "stream",
     "text": [
      "['Questo', 'è', 'un', 'testo', 'da', 'unire']\n"
     ]
    }
   ],
   "source": [
    "testo_lista_parole = testo_original1.split()\n",
    "print(testo_lista_parole)"
   ]
  },
  {
   "cell_type": "code",
   "execution_count": 16,
   "metadata": {
    "ExecuteTime": {
     "end_time": "2020-10-05T09:42:41.282495Z",
     "start_time": "2020-10-05T09:42:41.276514Z"
    }
   },
   "outputs": [
    {
     "name": "stdout",
     "output_type": "stream",
     "text": [
      "Questoèuntestodaunire\n"
     ]
    }
   ],
   "source": [
    "testo_unito = ''.join(testo_lista_parole)\n",
    "print(testo_unito)"
   ]
  },
  {
   "cell_type": "code",
   "execution_count": 17,
   "metadata": {
    "ExecuteTime": {
     "end_time": "2020-10-05T09:43:15.089704Z",
     "start_time": "2020-10-05T09:43:15.084319Z"
    }
   },
   "outputs": [],
   "source": [
    "def split_characters(word): \n",
    "    return [char for char in word]\n",
    "\n"
   ]
  },
  {
   "cell_type": "code",
   "execution_count": 18,
   "metadata": {
    "ExecuteTime": {
     "end_time": "2020-10-05T09:43:30.707085Z",
     "start_time": "2020-10-05T09:43:30.698683Z"
    }
   },
   "outputs": [
    {
     "data": {
      "text/plain": [
       "['Q',\n",
       " 'u',\n",
       " 'e',\n",
       " 's',\n",
       " 't',\n",
       " 'o',\n",
       " 'è',\n",
       " 'u',\n",
       " 'n',\n",
       " 't',\n",
       " 'e',\n",
       " 's',\n",
       " 't',\n",
       " 'o',\n",
       " 'd',\n",
       " 'a',\n",
       " 'u',\n",
       " 'n',\n",
       " 'i',\n",
       " 'r',\n",
       " 'e']"
      ]
     },
     "execution_count": 18,
     "metadata": {},
     "output_type": "execute_result"
    }
   ],
   "source": [
    "split_characters(testo_unito)"
   ]
  },
  {
   "cell_type": "code",
   "execution_count": 19,
   "metadata": {
    "ExecuteTime": {
     "end_time": "2020-10-05T09:49:47.235091Z",
     "start_time": "2020-10-05T09:49:47.216029Z"
    }
   },
   "outputs": [
    {
     "name": "stdout",
     "output_type": "stream",
     "text": [
      "John#Peter#Vicky\n"
     ]
    }
   ],
   "source": [
    "myTuple = (\"John\", \"Peter\", \"Vicky\")\n",
    "\n",
    "x = \"#\".join(myTuple)\n",
    "\n",
    "print(x)\n",
    "\n"
   ]
  },
  {
   "cell_type": "code",
   "execution_count": 41,
   "metadata": {
    "ExecuteTime": {
     "end_time": "2020-10-05T12:42:50.641844Z",
     "start_time": "2020-10-05T12:42:50.623122Z"
    }
   },
   "outputs": [
    {
     "name": "stdout",
     "output_type": "stream",
     "text": [
      "['c', 'i', 'a', 'o', 'a', 't', 'u', 't', 't', 'i', 'q', 'u', 'a', 'n', 't', 'i']\n",
      "\n",
      "Frequency dictionary letters of the alphabet:\n",
      " {'c': 1, 'i': 3, 'a': 3, 'o': 1, 't': 4, 'u': 2, 'q': 1, 'n': 1}\n",
      "\n",
      "=============================================\n",
      "\n",
      "Total number of letters in the text: 16\n",
      "\n",
      "Total number of letters used: 8\n",
      "\n",
      "=============================================\n",
      "\n"
     ]
    }
   ],
   "source": [
    "def relative_frequence_letter(text):\n",
    "    \n",
    "    '''\n",
    "    Python program that prints the relative frequence of each letter\n",
    "    of the alphabet (without distinguishing between lower and upper case) in the\n",
    "    book.\n",
    "    \n",
    "    '''\n",
    "    # Delete unwanted characters.\n",
    "  \n",
    "    text_del = text.maketrans({char: None for char in \"\"'!#$%&\\'()*+,-./:;<=>?@[\\\\]^_`{|}~'\"\"})\n",
    "\n",
    "    # Divide the text word by word.\n",
    "    text_div = text.lower().translate(text_del).split()  # .lower() returns the string with all letters in lowercase (UPPERCASE -> lowercase)\n",
    "\n",
    "    # Join the elements of the text list with no space between them.\n",
    "    text_join = ''.join(text_div)\n",
    "\n",
    "    def split_char(word): \n",
    "        '''\n",
    "        Function to separate each letter in each word.\n",
    "        '''\n",
    "        return [char for char in word]\n",
    "\n",
    "    # New text to be analyzed.\n",
    "    text_new = split_char(text_join)\n",
    "    print(text_new)\n",
    "    \n",
    "    \n",
    "    #------------------------------------------------------------------------\n",
    "\n",
    "    # Create dictionary\n",
    "    dict_frequence_letter = {}\n",
    "    \n",
    "    for letter in text_new:                            \n",
    "        if letter in dict_frequence_letter:          \n",
    "            dict_frequence_letter[letter] += 1       \n",
    "        else:\n",
    "            dict_frequence_letter[letter] = 1        \n",
    "       \n",
    "    print(\"\\nFrequency dictionary letters of the alphabet:\\n\", dict_frequence_letter)\n",
    "   \n",
    "    list_keys_dict   = list(dict_frequence_letter.keys())\n",
    "    list_values_dict = list(dict_frequence_letter.values())\n",
    "    list_itmes_dict  = list(dict_frequence_letter.items())\n",
    "   \n",
    "   \n",
    "    #input(\" \")\n",
    "    print('\\n=============================================')\n",
    "    print(f'\\nTotal number of letters in the text: {sum(list_values_dict)}')\n",
    "    print(f'\\nTotal number of letters used: {len(list_keys_dict)}')\n",
    "    print('\\n=============================================\\n')\n",
    "    #input(\" \")\n",
    "\n",
    "\n",
    "\n",
    "    \n",
    "# test\n",
    "testo = 'Ciao a tutti quanti!.'\n",
    "\n",
    "relative_frequence_letter(testo)"
   ]
  },
  {
   "cell_type": "code",
   "execution_count": 42,
   "metadata": {
    "ExecuteTime": {
     "end_time": "2020-10-05T13:25:01.039523Z",
     "start_time": "2020-10-05T13:25:00.990976Z"
    }
   },
   "outputs": [],
   "source": [
    "import timeit"
   ]
  },
  {
   "cell_type": "code",
   "execution_count": null,
   "metadata": {},
   "outputs": [],
   "source": []
  }
 ],
 "metadata": {
  "hide_input": false,
  "kernelspec": {
   "display_name": "Python 3",
   "language": "python",
   "name": "python3"
  },
  "language_info": {
   "codemirror_mode": {
    "name": "ipython",
    "version": 3
   },
   "file_extension": ".py",
   "mimetype": "text/x-python",
   "name": "python",
   "nbconvert_exporter": "python",
   "pygments_lexer": "ipython3",
   "version": "3.7.4"
  },
  "latex_envs": {
   "LaTeX_envs_menu_present": true,
   "autoclose": true,
   "autocomplete": true,
   "bibliofile": "biblio.bib",
   "cite_by": "apalike",
   "current_citInitial": 1,
   "eqLabelWithNumbers": false,
   "eqNumInitial": 1,
   "hotkeys": {
    "equation": "Ctrl-E",
    "itemize": "Ctrl-I"
   },
   "labels_anchors": false,
   "latex_user_defs": false,
   "report_style_numbering": false,
   "user_envs_cfg": false
  },
  "toc": {
   "base_numbering": 1,
   "nav_menu": {},
   "number_sections": true,
   "sideBar": true,
   "skip_h1_title": false,
   "title_cell": "Table of Contents",
   "title_sidebar": "Contents",
   "toc_cell": false,
   "toc_position": {},
   "toc_section_display": true,
   "toc_window_display": false
  }
 },
 "nbformat": 4,
 "nbformat_minor": 4
}
